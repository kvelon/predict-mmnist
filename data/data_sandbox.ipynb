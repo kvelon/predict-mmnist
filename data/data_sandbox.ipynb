{
 "cells": [
  {
   "cell_type": "code",
   "execution_count": 1,
   "metadata": {},
   "outputs": [],
   "source": [
    "import socket\n",
    "import numpy as np\n",
    "import torch\n",
    "from pathlib import Path\n",
    "from torchvision import datasets, transforms\n",
    "from torch.utils.data import Dataset, DataLoader, random_split\n",
    "import pytorch_lightning as pl\n",
    "import matplotlib.pyplot as plt\n",
    "\n",
    "from data_classes import *"
   ]
  },
  {
   "cell_type": "code",
   "execution_count": 2,
   "metadata": {},
   "outputs": [],
   "source": [
    "num_ctx_frames = 5\n",
    "num_tgt_frames = 5\n",
    "split_ratio=[0.4, 0.1, 0.5]\n"
   ]
  },
  {
   "cell_type": "code",
   "execution_count": 3,
   "metadata": {},
   "outputs": [],
   "source": [
    "bs = 32\n",
    "twocolour_dm = TwoColourMovingMNISTDataModule(\n",
    "    batch_size=bs,\n",
    "    num_ctx_frames=num_ctx_frames,\n",
    "    num_tgt_frames=num_tgt_frames,\n",
    "    split_ratio=split_ratio\n",
    ")\n",
    "twocolour_dm.setup()"
   ]
  },
  {
   "cell_type": "code",
   "execution_count": 4,
   "metadata": {},
   "outputs": [
    {
     "name": "stdout",
     "output_type": "stream",
     "text": [
      "4000\n",
      "1000\n",
      "5000\n"
     ]
    }
   ],
   "source": [
    "print(len(twocolour_dm.train))\n",
    "print(len(twocolour_dm.val))\n",
    "print(len(twocolour_dm.test))"
   ]
  },
  {
   "cell_type": "code",
   "execution_count": null,
   "metadata": {},
   "outputs": [],
   "source": [
    "tl = twocolour_dm.train_dataloader()\n",
    "train_ctx_batch, train_tgt_batch = next(iter(tl))\n",
    "train_ctx_batch.shape"
   ]
  },
  {
   "cell_type": "markdown",
   "metadata": {},
   "source": [
    "### Make a sample plot for the thesis"
   ]
  },
  {
   "cell_type": "code",
   "execution_count": null,
   "metadata": {},
   "outputs": [],
   "source": [
    "def make_mnist_plot(ctx, tgt, id):\n",
    "    def show_frames(frames, ax, start_id):\n",
    "        for i, frame in enumerate(frames):\n",
    "            ax[i].imshow(frame)\n",
    "            ax[i].set_xticks([])\n",
    "            ax[i].set_yticks([])\n",
    "            ax[i].set_xlabel(f\"t={start_id+i}\")\n",
    "            ax[i].xaxis.set_label_coords(.52, 1.15)\n",
    "    \n",
    "    fig, ax = plt.subplots(2, 5,\n",
    "                        figsize = (8, 3))\n",
    "    \n",
    "    show_frames(ctx[id].permute(1, 2, 3, 0), ax[0], 1)\n",
    "    show_frames(tgt[id].permute(1, 2, 3, 0), ax[1], 6)\n",
    "\n",
    "    fig.set_facecolor(\"white\")\n",
    "\n",
    "    plt.savefig(\"sample_plot.pdf\")\n",
    "\n",
    "    return fig"
   ]
  },
  {
   "cell_type": "code",
   "execution_count": null,
   "metadata": {},
   "outputs": [],
   "source": [
    "fig = make_mnist_plot(train_ctx_batch, train_tgt_batch, 5)"
   ]
  },
  {
   "cell_type": "code",
   "execution_count": null,
   "metadata": {},
   "outputs": [],
   "source": []
  }
 ],
 "metadata": {
  "kernelspec": {
   "display_name": "Python 3.10.5 ('pytorch')",
   "language": "python",
   "name": "python3"
  },
  "language_info": {
   "codemirror_mode": {
    "name": "ipython",
    "version": 3
   },
   "file_extension": ".py",
   "mimetype": "text/x-python",
   "name": "python",
   "nbconvert_exporter": "python",
   "pygments_lexer": "ipython3",
   "version": "3.10.5"
  },
  "orig_nbformat": 4,
  "vscode": {
   "interpreter": {
    "hash": "da4c3a4107fc661dfc1ddc51b98664f856b9baf685ab1745d9fa2472938977d8"
   }
  }
 },
 "nbformat": 4,
 "nbformat_minor": 2
}
